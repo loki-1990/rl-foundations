{
 "cells": [
  {
   "cell_type": "markdown",
   "id": "17c4e1c2-931b-4e68-9378-5d376b0df0ef",
   "metadata": {
    "id": "17c4e1c2-931b-4e68-9378-5d376b0df0ef"
   },
   "source": [
    "# Experiments on MDP"
   ]
  },
  {
   "cell_type": "markdown",
   "id": "69751002-4656-47cf-8b2c-6016a434f4b6",
   "metadata": {
    "id": "69751002-4656-47cf-8b2c-6016a434f4b6"
   },
   "source": [
    "## Experiment 1: A Deterministic Career Path\n",
    "\n",
    "Consider a simple Markov Decision Process below with four states and two actions available at each state. In this simplistic setting actions have deterministic effects, i.e., taking an action in a state always leads to one next state with transition probability equal to one. There are two actions out of each state for the agent to choose from: D for development and R for research. The _ultimately-care-only-about-money_ reward scheme is given along with the states.\n",
    "\n",
    "<img src='https://raw.githubusercontent.com/Muskman/ee932-reinforcement-learning/main/pa2/assets/mdp-d.png' width=\"700\" align=\"left\"></img>"
   ]
  },
  {
   "cell_type": "code",
   "execution_count": null,
   "id": "b0f991f3-9630-4656-9caa-135f13847ed8",
   "metadata": {
    "id": "b0f991f3-9630-4656-9caa-135f13847ed8"
   },
   "outputs": [],
   "source": [
    "# Import essential libraries for MDP experiments.\n",
    "# These cover environment setup, numerical operations, plotting, and randomness.\n",
    "import gymnasium as gym\n",
    "import copy\n",
    "import numpy as np\n",
    "import matplotlib.pyplot as plt\n",
    "import matplotlib.font_manager\n",
    "import random"
   ]
  },
  {
   "cell_type": "code",
   "execution_count": null,
   "id": "b6b00b86",
   "metadata": {},
   "outputs": [
    {
     "name": "stdout",
     "output_type": "stream",
     "text": [
      "Using seed 42\n"
     ]
    }
   ],
   "source": [
    "# Set up argument parsing and configuration for experiments.\n",
    "# Loads settings from config.json and handles reproducibility via seed.\n",
    "import argparse, json\n",
    "with open(\"config.json\") as f:\n",
    "    config = json.load(f)\n",
    "parser = argparse.ArgumentParser(add_help=False)\n",
    "parser.add_argument(\"--policy\", choices=[\"R\", \"D\", \"uncertain\", \"random\"], default=\"D\")\n",
    "parser.add_argument(\"--seed\", type=int)  # optional: makes \"random\" reproducible\n",
    "CLI = \"\"  # e.g., \"--policy random --seed 7\" or \"--policy R\"\n",
    "seed = config.get(\"seed\", None)\n",
    "if seed is not None:\n",
    "    np.random.seed(seed)\n",
    "    random.seed(seed)\n",
    "else:\n",
    "    seed = 1990\n",
    "    np.random.seed(seed)\n",
    "    random.seed(seed)\n",
    "print(f\"Using seed {seed}\")"
   ]
  },
  {
   "cell_type": "markdown",
   "id": "47afefbb-7b00-44e5-82dd-16953b59a7f3",
   "metadata": {
    "id": "47afefbb-7b00-44e5-82dd-16953b59a7f3"
   },
   "source": [
    "### 1.1 Environment Implementation"
   ]
  },
  {
   "cell_type": "code",
   "execution_count": 106,
   "id": "61c01aa4-94c3-48e5-ad3b-279e03685260",
   "metadata": {
    "id": "61c01aa4-94c3-48e5-ad3b-279e03685260"
   },
   "outputs": [],
   "source": [
    "'''\n",
    "Represents a Career Path problem Gym Environment which provides a Fully observable\n",
    "MDP\n",
    "'''\n",
    "class CareerPathEnv(gym.Env):\n",
    "    '''\n",
    "    CareerPathEnv represents the Gym Environment for the Career Path problem environment\n",
    "    States : [0:'Unemployed',1:'Industry',2:'Grad School',3:'Academia']\n",
    "    Actions : [0:'Research', 1:'Development']\n",
    "    '''\n",
    "    metadata = {'render.modes': ['human']}\n",
    "\n",
    "    def __init__(self,initial_state=0,no_states=4,no_actions=2):\n",
    "        '''\n",
    "        Constructor for the CareerPath class\n",
    "\n",
    "        Args:\n",
    "            initial_state : starting state of the agent\n",
    "            no_states : The no. of possible states which is 4\n",
    "            no_actions : The no. of possible actions which is 2\n",
    "\n",
    "        '''\n",
    "        self.initial_state = initial_state\n",
    "        self.state = self.initial_state\n",
    "        self.nA = no_actions\n",
    "        self.nS = no_states\n",
    "        self.prob_dynamics = {\n",
    "            # s: {\n",
    "            #   a: [(p(s,s'|a), s', r', terminal/not)]\n",
    "            # }\n",
    "\n",
    "            0: {\n",
    "                0: [(1.0, 2, 0.0, False)],\n",
    "                1: [(1.0, 1, 100.0, False)],\n",
    "            },\n",
    "            1: {\n",
    "                0: [(1.0, 0, -10.0, False)],\n",
    "                1: [(1.0, 1, 100.0, False)],\n",
    "            },\n",
    "            2: {\n",
    "                0: [(1.0, 3, 10.0, False)],\n",
    "                1: [(1.0, 1, 100.0, False)],\n",
    "            },\n",
    "            3: {\n",
    "                0: [(1.0, 3, 10.0, False)],\n",
    "                1: [(1.0, 1, 100.0, False)],\n",
    "            },\n",
    "        }\n",
    "        self.reset()\n",
    "\n",
    "    def reset(self):\n",
    "        '''\n",
    "        Resets the environment\n",
    "        Returns:\n",
    "            observations containing player's current state\n",
    "        '''\n",
    "        self.state = self.initial_state\n",
    "        return self.get_obs()\n",
    "\n",
    "    def get_obs(self):\n",
    "        '''\n",
    "        Returns the player's state as the observation of the environment\n",
    "        '''\n",
    "        return (self.state)\n",
    "\n",
    "    def render(self, mode='human'):\n",
    "        '''\n",
    "        Renders the environment\n",
    "        '''\n",
    "        print(\"Current state: {}\".format(self.state))\n",
    "\n",
    "    def sample_action(self):\n",
    "        '''\n",
    "        Samples and returns a random action from the action space\n",
    "        '''\n",
    "\n",
    "        return random.randint(0, self.nA - 1)\n",
    "    def P(self):\n",
    "        '''\n",
    "        Defines and returns the probabilty transition matrix which is in the form of a nested dictionary\n",
    "        '''\n",
    "        self.prob_dynamics = {\n",
    "            0: {\n",
    "                0: [(1.0, 2, 0.0, False)],\n",
    "                1: [(1.0, 1, 100.0, False)],\n",
    "            },\n",
    "            1: {\n",
    "                0: [(1.0, 0, -10.0, False)],\n",
    "                1: [(1.0, 1, 100.0, False)],\n",
    "            },\n",
    "            2: {\n",
    "                0: [(1.0, 3, 10.0, False)],\n",
    "                1: [(1.0, 1, 100.0, False)],\n",
    "            },\n",
    "            3: {\n",
    "                0: [(1.0, 3, 10.0, False)],\n",
    "                1: [(1.0, 1, 100.0, False)],\n",
    "            },\n",
    "        }\n",
    "        return self.prob_dynamics\n",
    "\n",
    "\n",
    "    def step(self, action):\n",
    "        '''\n",
    "        Performs the given action\n",
    "        Args:\n",
    "            action : action from the action_space to be taking in the environment\n",
    "        Returns:\n",
    "            observation - returns current state\n",
    "            reward - reward obtained after taking the given action\n",
    "            done - True if the episode is complete else False\n",
    "        '''\n",
    "        if action >= self.nA:\n",
    "            action = self.nA-1\n",
    "        if action < 0:\n",
    "            action = 0\n",
    "\n",
    "        dynamics_tuple = self.prob_dynamics[self.state][action][0]\n",
    "        self.state = dynamics_tuple[1]\n",
    "\n",
    "\n",
    "        return self.state, dynamics_tuple[2], dynamics_tuple[3]"
   ]
  },
  {
   "cell_type": "markdown",
   "id": "c9125c6e-8599-4dea-b388-b20596e33201",
   "metadata": {
    "id": "c9125c6e-8599-4dea-b388-b20596e33201"
   },
   "source": [
    "### 1.2 Policies\n",
    "\n",
    "After implementing the environment let us see how to make decisions in the environment. Let $\\pi_1(s) = R$ and $\\pi_2(s) = D$ for any state be two policies. Let us see how these policies look like."
   ]
  },
  {
   "cell_type": "code",
   "execution_count": null,
   "id": "7d58aa48-25aa-4cb3-a70d-c4ac68f0cacc",
   "metadata": {
    "id": "7d58aa48-25aa-4cb3-a70d-c4ac68f0cacc",
    "outputId": "8d2c9d13-71f0-4ed9-b0d8-28b4eac47e1e"
   },
   "outputs": [
    {
     "name": "stdout",
     "output_type": "stream",
     "text": [
      "Research policy: \n",
      " [[1. 0.]\n",
      " [1. 0.]\n",
      " [1. 0.]\n",
      " [1. 0.]]\n",
      "Development policy: \n",
      " [[0. 1.]\n",
      " [0. 1.]\n",
      " [0. 1.]\n",
      " [0. 1.]]\n",
      "Random policy: \n",
      " [[1 0]\n",
      " [0 1]\n",
      " [1 0]\n",
      " [1 0]]\n",
      "Uncertain policy: \n",
      " [[0.5 0.5]\n",
      " [0.5 0.5]\n",
      " [0.5 0.5]\n",
      " [0.5 0.5]]\n"
     ]
    }
   ],
   "source": [
    "# Policy definitions for the Career Path MDP\n",
    "policy_R = np.concatenate((np.ones([4, 1]), np.zeros([4, 1])), axis=1) # Research policy\n",
    "policy_D = np.concatenate((np.zeros([4, 1]), np.ones([4, 1])), axis=1) # Development policy\n",
    "policy_random = np.array((np.random.permutation(2), np.random.permutation(2), np.random.permutation(2), np.random.permutation(2))) # Random policy\n",
    "policy_uncertain = np.concatenate((0.5*np.ones([4, 1]), 0.5*np.ones([4, 1])), axis=1) # Uncertain policy\n",
    "print(\"Research policy: \\n\",policy_R)\n",
    "print(\"Development policy: \\n\", policy_D)\n",
    "print(\"Random policy: \\n\",policy_random)\n",
    "print(\"Uncertain policy: \\n\",policy_uncertain)\n"
   ]
  },
  {
   "cell_type": "markdown",
   "id": "ed00cfd0",
   "metadata": {
    "id": "ed00cfd0"
   },
   "source": [
    "### 1.3 Testing\n",
    "\n",
    "By usine one of the above policies, lets see how we navigate the environment. We want to see how we make take and action based on a given policy, what state we transition to and obtain the rewards from the transition."
   ]
  },
  {
   "cell_type": "code",
   "execution_count": null,
   "id": "3fd4869e",
   "metadata": {
    "id": "3fd4869e",
    "outputId": "e0dc70c0-be1d-469f-f1db-d1157bd19c1c"
   },
   "outputs": [
    {
     "name": "stdout",
     "output_type": "stream",
     "text": [
      "[using policy = Uncertain, seed = 42]\n",
      "[[0.5 0.5]\n",
      " [0.5 0.5]\n",
      " [0.5 0.5]\n",
      " [0.5 0.5]]\n",
      "State\t Action\t New State\t Reward\t is_Terminal\n",
      "  0 \t   1 \t   1 \t 100.0 \t   False\n",
      "  1 \t   1 \t   1 \t 100.0 \t   False\n",
      "  1 \t   0 \t   0 \t -10.0 \t   False\n",
      "  0 \t   0 \t   2 \t 0.0 \t   False\n",
      "  2 \t   0 \t   3 \t 10.0 \t   False\n",
      "  3 \t   1 \t   1 \t 100.0 \t   False\n",
      "  1 \t   1 \t   1 \t 100.0 \t   False\n",
      "  1 \t   1 \t   1 \t 100.0 \t   False\n",
      "  1 \t   0 \t   0 \t -10.0 \t   False\n",
      "  0 \t   1 \t   1 \t 100.0 \t   False\n",
      "Total Number of steps: 10\n",
      "Final Reward: 590.0\n"
     ]
    }
   ],
   "source": [
    "# Test navigation in the deterministic Career Path environment using a selected policy\n",
    "det_env = CareerPathEnv()\n",
    "is_Terminal = False\n",
    "start_state = det_env.reset()\n",
    "steps = 0\n",
    "total_reward = 0\n",
    "\n",
    "if config.get(\"policy\") == \"Research\":\n",
    "    policy = policy_R\n",
    "elif config.get(\"policy\") == \"Development\":\n",
    "    policy = policy_D\n",
    "elif config.get(\"policy\") == \"Uncertain\":\n",
    "    policy = policy_uncertain\n",
    "else: # \"Random\"\n",
    "    policy = policy_random\n",
    "print(f\"[using policy = {config.get('policy')}, seed = {seed}]\")\n",
    "print(policy)\n",
    "\n",
    "print(\"State\\t\", \"Action\\t\" , \"New State\\t\" , \"Reward\\t\" , \"is_Terminal\")\n",
    "steps = 0\n",
    "max_steps = 5\n",
    "prev_state = start_state\n",
    "\n",
    "while steps < 10:\n",
    "    steps += 1\n",
    "    action = np.random.choice(2,1,p=policy[prev_state])[0]  # 0: Research, 1: Development\n",
    "    state, reward, is_Terminal = det_env.step(action)\n",
    "    total_reward += reward\n",
    "    print(\" \",prev_state, \"\\t  \", action, \"\\t  \", state, \"\\t\", reward, \"\\t  \", is_Terminal)\n",
    "    prev_state = state\n",
    "\n",
    "print(\"Total Number of steps:\", steps)\n",
    "print(\"Final Reward:\", total_reward)\n"
   ]
  },
  {
   "cell_type": "markdown",
   "id": "9121e977-35c4-4845-888d-2b662262347a",
   "metadata": {
    "id": "9121e977-35c4-4845-888d-2b662262347a"
   },
   "source": [
    "### 1.4 Iterative Policy Evaluation\n",
    "Iterative Policy Evaluation is commonly used to calculate the state value function $V_\\pi(s)$ for a given policy $\\pi$. Here we implement a function to compute the state value function $V_\\pi(s)$ for a given policy\n",
    "\n",
    "<img src='https://raw.githubusercontent.com/Muskman/ee932-reinforcement-learning/main/pa2/assets/policy_eval.png' width=\"500\" align=\"left\"></img>"
   ]
  },
  {
   "cell_type": "code",
   "execution_count": null,
   "id": "c360b73b-e4d4-4538-b654-5837a123ee11",
   "metadata": {
    "id": "c360b73b-e4d4-4538-b654-5837a123ee11"
   },
   "outputs": [],
   "source": [
    "def EvaluatePolicy(env, policy, gamma=0.9, theta=1e-8, draw=False):\n",
    "    \"\"\"\n",
    "    Policy Evaluation for MDP: computes state values for a given policy.\n",
    "\n",
    "    Args:\n",
    "        env: MDP environment with nS, nA, and P()\n",
    "        policy: Policy matrix (nS x nA)\n",
    "        gamma: Discount factor\n",
    "        theta: Convergence threshold\n",
    "    Returns:\n",
    "        V: State values under the given policy\n",
    "    \"\"\"\n",
    "    V = np.zeros(env.nS)\n",
    "    while True:\n",
    "        delta = 0\n",
    "        for s in range(env.nS):\n",
    "            Vs = 0\n",
    "            for a, action_prob in enumerate(policy[s]):\n",
    "                for prob, next_state, reward, done in env.P()[s][a]:\n",
    "                    Vs += action_prob * prob * (reward + gamma * V[next_state])\n",
    "            delta = max(delta, np.abs(V[s]-Vs))\n",
    "            V[s] = Vs\n",
    "        if delta < theta:\n",
    "            break\n",
    "    return V\n"
   ]
  },
  {
   "cell_type": "markdown",
   "id": "7b891c3a",
   "metadata": {
    "id": "7b891c3a"
   },
   "source": [
    "### 1.5 Policy improvement\n",
    "\n",
    "$\\pi'(s) = \\arg \\max_a \\sum_{s',r} p(s',r|s,a)\\left[ r + \\gamma v_\\pi(s') \\right ]$\n"
   ]
  },
  {
   "cell_type": "code",
   "execution_count": null,
   "id": "930db58c",
   "metadata": {
    "id": "930db58c"
   },
   "outputs": [],
   "source": [
    "def ImprovePolicy(env, v, gamma):\n",
    "    \"\"\"\n",
    "    Policy Improvement for MDP: returns a greedy policy given state values.\n",
    "\n",
    "    Args:\n",
    "        env: MDP environment with nS, nA, and P()\n",
    "        v: State values\n",
    "        gamma: Discount factor\n",
    "    Returns:\n",
    "        new_pi: Greedy policy matrix (nS x nA)\n",
    "    \"\"\"\n",
    "    num_states = env.nS\n",
    "    num_actions = env.nA\n",
    "    prob_dynamics = env.P()\n",
    "    q = np.zeros((num_states, num_actions))\n",
    "    for state in prob_dynamics:\n",
    "        for action in prob_dynamics[state]:\n",
    "            for prob, new_state, reward, is_terminal in prob_dynamics[state][action]:\n",
    "                q[state][action] += prob*(reward + gamma*v[new_state])\n",
    "    new_pi = np.zeros((num_states, num_actions))\n",
    "    for state in range(num_states):\n",
    "        opt_action = np.argmax(q[state])\n",
    "        new_pi[state][opt_action] = 1.0\n",
    "    return new_pi\n"
   ]
  },
  {
   "cell_type": "markdown",
   "id": "d8634e11",
   "metadata": {
    "id": "d8634e11"
   },
   "source": [
    "### 1.6 Policy Iteration\n",
    "\n",
    "<img src='https://raw.githubusercontent.com/Muskman/ee932-reinforcement-learning/main/pa2/assets/policy_iteration.png' width=\"500\" align=\"left\"></img>"
   ]
  },
  {
   "cell_type": "code",
   "execution_count": null,
   "id": "1860233b",
   "metadata": {
    "id": "1860233b"
   },
   "outputs": [],
   "source": [
    "def PolicyIteration(env, pi_init, gamma=0.9, theta=1e-8):\n",
    "    \"\"\"\n",
    "    Policy Iteration for MDP: alternates evaluation and improvement until policy stabilizes.\n",
    "\n",
    "    Args:\n",
    "        env: MDP environment with nS, nA, and P()\n",
    "        pi_init: Initial policy matrix (nS x nA)\n",
    "        gamma: Discount factor\n",
    "        theta: Convergence threshold\n",
    "    Returns:\n",
    "        pi: Optimal action indices for each state\n",
    "        V: State values\n",
    "        deltas: Max value change per evaluation sweep\n",
    "    \"\"\"\n",
    "    nS, nA = env.nS, env.nA\n",
    "    V = np.zeros(nS)\n",
    "    pi = pi_init.copy()\n",
    "    deltas = []\n",
    "    P = env.P()\n",
    "    while True:\n",
    "        # Policy evaluation\n",
    "        while True:\n",
    "            delta = 0.0\n",
    "            for s in range(nS):\n",
    "                v = V[s]\n",
    "                Vs = 0.0\n",
    "                for a, action_prob in enumerate(pi[s]):\n",
    "                    for p, ns, r, done in P[s][a]:\n",
    "                        Vs += action_prob * p * (r + gamma * V[ns])\n",
    "                V[s] = Vs\n",
    "                delta = max(delta, abs(v - V[s]))\n",
    "            deltas.append(delta)\n",
    "            if delta < theta:\n",
    "                break\n",
    "        # Policy improvement\n",
    "        pi_new = ImprovePolicy(env, V, gamma)\n",
    "        if np.array_equal(np.argmax(pi, axis=1), np.argmax(pi_new, axis=1)):\n",
    "            break\n",
    "        pi = pi_new\n",
    "    return np.argmax(pi, axis=1), V, deltas\n"
   ]
  },
  {
   "cell_type": "markdown",
   "id": "5049ce61",
   "metadata": {
    "id": "5049ce61"
   },
   "source": [
    "### 1.7 Testing Policy Iteration"
   ]
  },
  {
   "cell_type": "code",
   "execution_count": null,
   "id": "9da9d38f",
   "metadata": {
    "id": "9da9d38f",
    "outputId": "dfcaf066-c998-4339-c29c-24633da4e496"
   },
   "outputs": [
    {
     "name": "stdout",
     "output_type": "stream",
     "text": [
      "Initial Policy: \n",
      " [[0.5 0.5]\n",
      " [0.5 0.5]\n",
      " [0.5 0.5]\n",
      " [0.5 0.5]]\n",
      "Final Policy: \n",
      " [1 1 1 1]\n",
      "State Value Function:  [999.99999992 999.99999992 999.99999992 999.99999992]\n",
      "Number of iterations for Policy Iteration:  353\n",
      "Iterations:\n",
      "Min\tMax\tAverage\n",
      "220 \t 417 \t 286.7\n"
     ]
    }
   ],
   "source": [
    "# Test Policy Iteration and gather stats\n",
    "gamma = 0.9\n",
    "pi_init = policy.copy()\n",
    "print(\"Initial Policy: \\n\", pi_init)\n",
    "pi, v, deltas_pi = PolicyIteration(det_env, pi_init, gamma)\n",
    "print(\"Final Policy: \\n\", pi)\n",
    "print(\"State Value Function: \", v)\n",
    "print(\"Number of iterations for Policy Iteration: \", len(deltas_pi))\n",
    "\n",
    "# Stats across random initial policies\n",
    "avg_iters = 0\n",
    "min_iters = 10**9\n",
    "max_iters = 0\n",
    "for _ in range(100):\n",
    "    policy_random = np.array((np.random.permutation(2), np.random.permutation(2), np.random.permutation(2), np.random.permutation(2)))\n",
    "    pi_pi, V_pi, deltas_pi = PolicyIteration(det_env, policy_random, gamma)\n",
    "    iters_pi = len(deltas_pi)\n",
    "    avg_iters += iters_pi\n",
    "    min_iters = min(min_iters, iters_pi)\n",
    "    max_iters = max(max_iters, iters_pi)\n",
    "avg_iters /= 100\n",
    "print(\"Iterations:\")\n",
    "print(\"Min\\tMax\\tAverage\")\n",
    "print(min_iters, \"\\t\", max_iters, \"\\t\", avg_iters)\n"
   ]
  },
  {
   "cell_type": "markdown",
   "id": "b57f1d6c-dd20-4902-9581-ce7f8a0ec944",
   "metadata": {
    "id": "b57f1d6c-dd20-4902-9581-ce7f8a0ec944"
   },
   "source": [
    "***"
   ]
  },
  {
   "cell_type": "markdown",
   "id": "c086d4b9",
   "metadata": {
    "id": "c086d4b9"
   },
   "source": [
    "### 1.8 Find an optimal policy to navigate the given environment using Value Iteration (VI)\n",
    "\n",
    "<img src='https://raw.githubusercontent.com/Muskman/ee932-reinforcement-learning/main/pa2/assets/value_iteration.png' width=\"500\" align=\"left\"></img>"
   ]
  },
  {
   "cell_type": "code",
   "execution_count": null,
   "id": "82e66db5",
   "metadata": {
    "id": "82e66db5"
   },
   "outputs": [],
   "source": [
    "def value_iteration_with_trace(env, gamma=0.9, theta=1e-8):\n",
    "    \"\"\"\n",
    "    Value Iteration for MDP: finds optimal policy and state values.\n",
    "\n",
    "    Args:\n",
    "        env: MDP environment with nS, nA, and P()\n",
    "        gamma: Discount factor\n",
    "        theta: Convergence threshold\n",
    "    Returns:\n",
    "        policy: Optimal action indices for each state\n",
    "        V: State values\n",
    "        deltas: Max value change per iteration\n",
    "    \"\"\"\n",
    "    n_states, n_actions = env.nS, env.nA\n",
    "    V = np.zeros(n_states)\n",
    "    policy = np.zeros(n_states, dtype=int)\n",
    "    deltas = []\n",
    "    P = env.P()\n",
    "    while True:\n",
    "        delta = 0\n",
    "        for s in range(n_states):\n",
    "            v = V[s]\n",
    "            action_values = np.zeros(n_actions)\n",
    "            for a in range(n_actions):\n",
    "                for prob, next_s, reward, done in P[s][a]:\n",
    "                    action_values[a] += prob * (reward + gamma * V[next_s])\n",
    "            best_action = np.argmax(action_values)\n",
    "            V[s] = action_values[best_action]\n",
    "            policy[s] = best_action\n",
    "            delta = max(delta, abs(v - V[s]))\n",
    "        deltas.append(delta)\n",
    "        if delta < theta:\n",
    "            break\n",
    "    return policy, V, deltas\n"
   ]
  },
  {
   "cell_type": "markdown",
   "id": "b92880f1",
   "metadata": {},
   "source": [
    "### 1.9 Plotting Convergence of Value Iteration and Policy Iteration"
   ]
  },
  {
   "cell_type": "code",
   "execution_count": 53,
   "id": "d1e2f15f",
   "metadata": {},
   "outputs": [],
   "source": [
    "def plot_convergence(deltas_vi, deltas_pi=None, title=\"Convergence\"):\n",
    "    \"\"\"\n",
    "    Plot convergence curves on a log-y axis.\n",
    "    - deltas_vi: list/array of max ΔV per sweep from value_iteration_with_trace\n",
    "    - deltas_pi: (optional) list/array of max ΔV per evaluation sweep from policy_iteration_with_trace\n",
    "    - title: figure title\n",
    "    \"\"\"\n",
    "    import matplotlib.pyplot as plt\n",
    "\n",
    "    plt.figure()\n",
    "    plt.plot(deltas_vi, label=\"Value Iteration\")\n",
    "    if deltas_pi is not None:\n",
    "        plt.plot(deltas_pi, label=\"Policy Iteration\")\n",
    "    plt.yscale(\"log\")\n",
    "    plt.xlabel(\"Iteration\")\n",
    "    plt.ylabel(\"Max ΔV\")\n",
    "    plt.title(title)\n",
    "    plt.legend()\n",
    "    plt.show()\n",
    "\n",
    "    # concise counts (no ambiguity about what's being reported)\n",
    "    print(\"VI iterations:\", len(deltas_vi), end=\"\")\n",
    "    if deltas_pi is not None:\n",
    "        print(\" | PI evaluation sweeps:\", len(deltas_pi))\n",
    "    else:\n",
    "        print()\n"
   ]
  },
  {
   "cell_type": "markdown",
   "id": "876d88b5",
   "metadata": {
    "id": "876d88b5"
   },
   "source": [
    "### 1.10 Testing Value Iterations"
   ]
  },
  {
   "cell_type": "code",
   "execution_count": null,
   "id": "5a9fb167",
   "metadata": {},
   "outputs": [
    {
     "name": "stdout",
     "output_type": "stream",
     "text": [
      "Optimal Policy (Deterministic MDP): [1 1 1 1]\n",
      "State Values: [1000. 1000. 1000. 1000.]\n",
      "Converged in 220 iterations\n",
      "\n",
      "Sample rollouts (deterministic transitions):\n",
      "\n",
      "Episode 1:\n",
      " Step 0: s=0(Unemployed), a=1, Next State=1(Industry), r=100.0\n",
      " Step 1: s=1(Industry), a=1, Next State=1(Industry), r=100.0\n",
      " Step 2: s=1(Industry), a=1, Next State=1(Industry), r=100.0\n",
      " Step 3: s=1(Industry), a=1, Next State=1(Industry), r=100.0\n",
      " Step 4: s=1(Industry), a=1, Next State=1(Industry), r=100.0\n",
      " Step 5: s=1(Industry), a=1, Next State=1(Industry), r=100.0\n",
      " Step 6: s=1(Industry), a=1, Next State=1(Industry), r=100.0\n",
      " Step 7: s=1(Industry), a=1, Next State=1(Industry), r=100.0\n",
      " Step 8: s=1(Industry), a=1, Next State=1(Industry), r=100.0\n",
      " Step 9: s=1(Industry), a=1, Next State=1(Industry), r=100.0\n",
      " Total Reward: 1000.0\n",
      "\n",
      "Episode 2:\n",
      " Step 0: s=0(Unemployed), a=1, Next State=1(Industry), r=100.0\n",
      " Step 1: s=1(Industry), a=1, Next State=1(Industry), r=100.0\n",
      " Step 2: s=1(Industry), a=1, Next State=1(Industry), r=100.0\n",
      " Step 3: s=1(Industry), a=1, Next State=1(Industry), r=100.0\n",
      " Step 4: s=1(Industry), a=1, Next State=1(Industry), r=100.0\n",
      " Step 5: s=1(Industry), a=1, Next State=1(Industry), r=100.0\n",
      " Step 6: s=1(Industry), a=1, Next State=1(Industry), r=100.0\n",
      " Step 7: s=1(Industry), a=1, Next State=1(Industry), r=100.0\n",
      " Step 8: s=1(Industry), a=1, Next State=1(Industry), r=100.0\n",
      " Step 9: s=1(Industry), a=1, Next State=1(Industry), r=100.0\n",
      " Total Reward: 1000.0\n",
      "\n",
      "Episode 3:\n",
      " Step 0: s=0(Unemployed), a=1, Next State=1(Industry), r=100.0\n",
      " Step 1: s=1(Industry), a=1, Next State=1(Industry), r=100.0\n",
      " Step 2: s=1(Industry), a=1, Next State=1(Industry), r=100.0\n",
      " Step 3: s=1(Industry), a=1, Next State=1(Industry), r=100.0\n",
      " Step 4: s=1(Industry), a=1, Next State=1(Industry), r=100.0\n",
      " Step 5: s=1(Industry), a=1, Next State=1(Industry), r=100.0\n",
      " Step 6: s=1(Industry), a=1, Next State=1(Industry), r=100.0\n",
      " Step 7: s=1(Industry), a=1, Next State=1(Industry), r=100.0\n",
      " Step 8: s=1(Industry), a=1, Next State=1(Industry), r=100.0\n",
      " Step 9: s=1(Industry), a=1, Next State=1(Industry), r=100.0\n",
      " Total Reward: 1000.0\n"
     ]
    },
    {
     "data": {
      "image/png": "[encoded data removed]",
      "text/plain": [
       "<Figure size 640x480 with 1 Axes>"
      ]
     },
     "metadata": {},
     "output_type": "display_data"
    },
    {
     "name": "stdout",
     "output_type": "stream",
     "text": [
      "VI iterations: 220 | PI evaluation sweeps: 353\n"
     ]
    }
   ],
   "source": [
    "# Section 1.10: Testing Value Iteration on the Deterministic Career Path\n",
    "# This cell demonstrates how to use Value Iteration to find the optimal policy and state values in the deterministic environment.\n",
    "# It also shows how to simulate rollouts with the learned policy and compares convergence between Value Iteration and Policy Iteration.\n",
    "# These steps help illustrate how the agent learns and how quickly the algorithms converge.\n",
    "\n",
    "# Set the discount factor for future rewards\n",
    "gamma = 0.9\n",
    "\n",
    "# Learn the optimal policy and state values using Value Iteration\n",
    "pi_vi, V_vi, iters_vi = value_iteration_with_trace(det_env, gamma)\n",
    "print(\"Optimal Policy (Deterministic MDP):\", pi_vi)          # e.g., [1 1 1 1]\n",
    "print(\"State Values:\", np.round(V_vi, 2))                         # e.g., ~[1000, 1000, ...]\n",
    "print(\"Converged in\", len(iters_vi), \"iterations\")\n",
    "\n",
    "# Optional: Use readable state names for clarity in rollouts\n",
    "state_names = {0:\"Unemployed\", 1:\"Industry\", 2:\"Grad School\", 3:\"Academia\"}\n",
    "\n",
    "# Simulate a few short rollouts with the learned policy to visualize agent behavior\n",
    "print(\"\\nSample rollouts (deterministic transitions):\")\n",
    "for ep in range(3):  # Run a couple of concise episodes\n",
    "    state = det_env.reset()\n",
    "    total_reward = 0\n",
    "    print(f\"\\nEpisode {ep+1}:\")\n",
    "    for t in range(10):  # Short horizon for readable logs\n",
    "        action = pi_vi[state]\n",
    "        next_state, reward, done = det_env.step(action)\n",
    "        s_name = state_names.get(state, state)\n",
    "        ns_name = state_names.get(next_state, next_state)\n",
    "        print(f\" Step {t}: s={state}({s_name}), a={action}, Next State={next_state}({ns_name}), r={reward}\")\n",
    "        total_reward += reward\n",
    "        state = next_state\n",
    "        if done:\n",
    "            break\n",
    "    print(\" Total Reward:\", total_reward)\n",
    "\n",
    "# Plot and compare convergence of Value Iteration and Policy Iteration\n",
    "policy_random_for_plot = pi_init.copy()\n",
    "pi_pi_plot, V_pi_plot, deltas_pi = PolicyIteration(det_env, policy_random_for_plot, gamma)\n",
    "plot_convergence(iters_vi, deltas_pi, title=\"Convergence — Deterministic MDP\")\n"
   ]
  },
  {
   "cell_type": "markdown",
   "id": "888debcb",
   "metadata": {},
   "source": [
    "### Section 1.11: Evaluating Policies in the Deterministic Career Path"
   ]
  },
  {
   "cell_type": "code",
   "execution_count": null,
   "id": "3475ea02",
   "metadata": {},
   "outputs": [
    {
     "name": "stdout",
     "output_type": "stream",
     "text": [
      "Deterministic — V(policy from config): [1000. 1000. 1000.  100.]\n",
      "Deterministic — V(VI policy) via EvaluatePolicy: [1000. 1000. 1000. 1000.]\n"
     ]
    }
   ],
   "source": [
    "# Section 1.11: Evaluating Policies in the Deterministic Career Path\n",
    "# This cell compares the value of the user-selected policy and the value of the optimal policy found by Value Iteration.\n",
    "# It helps verify that the evaluation function works correctly and that the optimal policy truly yields the best state values.\n",
    "# The results show whether the agent's chosen policy is as effective as the one learned by the algorithm.\n",
    "\n",
    "# Evaluate the currently selected policy from Section 1.3\n",
    "V_det_eval = EvaluatePolicy(det_env, policy, gamma)\n",
    "print(\"Deterministic — V(policy from config):\", np.round(V_det_eval, 2))\n",
    "\n",
    "# Evaluate the VI-optimal policy using one-hot encoding; should match Value Iteration results\n",
    "pi_vi_det, V_vi_det, _ = value_iteration_with_trace(det_env, gamma)\n",
    "pi_vi_det_mat = np.eye(det_env.nA)[pi_vi_det]\n",
    "V_det_vi_check = EvaluatePolicy(det_env, pi_vi_det_mat, gamma)\n",
    "print(\"Deterministic — V(VI policy) via EvaluatePolicy:\", np.round(V_det_vi_check, 2))\n"
   ]
  },
  {
   "cell_type": "markdown",
   "id": "4cc712ac",
   "metadata": {
    "id": "4cc712ac"
   },
   "source": [
    "***"
   ]
  },
  {
   "cell_type": "markdown",
   "id": "a47f6340",
   "metadata": {
    "id": "a47f6340"
   },
   "source": [
    "## Experiment 2 : A Stochastic Career Path\n",
    "\n",
    "Now consider a more realistic Markov Decision Process below with four states and two actions available at each state. In this setting Actions have nondeterministic effects, i.e., taking an action in a state always leads to one next state, but which state is the one next state is determined by transition probabilities. These transition probabilites are shown in the figure attached to the transition arrows from states and actions to states. There are two actions out of each state for the agent to choose from: D for development and R for research. The same _ultimately-care-only-about-money_ reward scheme is given along with the states.\n",
    "\n",
    "<img src='https://raw.githubusercontent.com/Muskman/ee932-reinforcement-learning/main/pa2/assets/mdp-nd.png' width=\"700\" align=\"left\"></img>"
   ]
  },
  {
   "cell_type": "markdown",
   "id": "a6d7e0a5",
   "metadata": {},
   "source": [
    "### 2.1 Environment Implementation (Stochastic)\n",
    "\n",
    "The stochastic environment used in Experiment 2 is implemented as a Gym-style class below. It encodes probabilistic transitions and rewards for the same state/action space used in Experiment 1. (Per your requirement, I will not modify the class implementation itself; this markdown simply documents its role in the experiment.)"
   ]
  },
  {
   "cell_type": "code",
   "execution_count": 88,
   "id": "73a0ac3e-223e-42c9-896f-d3d74c060258",
   "metadata": {
    "id": "73a0ac3e-223e-42c9-896f-d3d74c060258"
   },
   "outputs": [],
   "source": [
    "'''\n",
    "Represents a Career Path problem Gym Environment which provides a Fully observable\n",
    "MDP\n",
    "'''\n",
    "class StochasticCareerPathEnv(gym.Env):\n",
    "    '''\n",
    "    StocasticCareerPathEnv represents the Gym Environment for the Career Path problem environment\n",
    "    States : [0:'Unemployed',1:'Industry',2:'Grad School',3:'Academia']\n",
    "    Actions : [0:'Research', 1:'Development']\n",
    "    '''\n",
    "    metadata = {'render.modes': ['human']}\n",
    "\n",
    "    def __init__(self,initial_state=3,no_states=4,no_actions=2):\n",
    "        '''\n",
    "        Constructor for the CareerPath class\n",
    "\n",
    "        Args:\n",
    "            initial_state : starting state of the agent\n",
    "            no_states : The no. of possible states which is 4\n",
    "            no_actions : The no. of possible actions which is 2\n",
    "\n",
    "        '''\n",
    "        self.initial_state = initial_state\n",
    "        self.state = self.initial_state\n",
    "        self.nA = no_actions\n",
    "        self.nS = no_states\n",
    "        self.prob_dynamics = {\n",
    "            # s: {\n",
    "            #   a: [(p(s,s'|a), s', r', terminal/not), (p(s,s''|a), s'', r'', terminal/not)]\n",
    "            # }\n",
    "\n",
    "            0: {\n",
    "                0: [(1.0, 2, 0.0, False)],\n",
    "                1: [(1.0, 1, 100.0, False)],\n",
    "            },\n",
    "            1: {\n",
    "                0: [(0.9, 0, -10.0, False),(0.1, 1, 100, False)],\n",
    "                1: [(1.0, 1, 100.0, False)],\n",
    "            },\n",
    "            2: {\n",
    "                0: [(0.9, 3, 10.0, False),(0.1, 2, 0, False)],\n",
    "                1: [(0.9, 1, 100.0, False),(0.1, 1, 100, False)],\n",
    "            },\n",
    "            3: {\n",
    "                0: [(1.0, 3, 10.0, False)],\n",
    "                1: [(0.9, 1, 100.0, False),(0.1, 3, 10, False)],\n",
    "            },\n",
    "        }\n",
    "        self.reset()\n",
    "\n",
    "    def reset(self):\n",
    "        '''\n",
    "        Resets the environment\n",
    "        Returns:\n",
    "            observations containing player's current state\n",
    "        '''\n",
    "        self.state = self.initial_state\n",
    "        return self.get_obs()\n",
    "\n",
    "    def get_obs(self):\n",
    "        '''\n",
    "        Returns the player's state as the observation of the environment\n",
    "        '''\n",
    "        return (self.state)\n",
    "\n",
    "    def render(self, mode='human'):\n",
    "        '''\n",
    "        Renders the environment\n",
    "        '''\n",
    "        print(\"Current state: {}\".format(self.state))\n",
    "\n",
    "    def sample_action(self):\n",
    "        '''\n",
    "        Samples and returns a random action from the action space\n",
    "        '''\n",
    "        return random.randint(0, self.nA-1)\n",
    "    def P(self):\n",
    "        '''\n",
    "        Defines and returns the probabilty transition matrix which is in the form of a nested dictionary\n",
    "        '''\n",
    "        self.prob_dynamics = {\n",
    "            0: {\n",
    "                0: [(1.0, 2, 0.0, False)],\n",
    "                1: [(1.0, 1, 100.0, False)],\n",
    "            },\n",
    "            1: {\n",
    "                0: [(0.9, 0, -10.0, False),(0.1, 1, 100, False)],\n",
    "                1: [(1.0, 1, 100.0, False)],\n",
    "            },\n",
    "            2: {\n",
    "                0: [(0.9, 3, 10.0, False),(0.1, 2, 0, False)],\n",
    "                1: [(0.9, 1, 100.0, False),(0.1, 1, 100, False)],\n",
    "            },\n",
    "            3: {\n",
    "                0: [(1.0, 3, 10.0, False)],\n",
    "                1: [(0.9, 1, 100.0, False),(0.1, 3, 10, False)],\n",
    "            },\n",
    "        }\n",
    "        return self.prob_dynamics\n",
    "\n",
    "\n",
    "    def step(self, action):\n",
    "        '''\n",
    "        Performs the given action\n",
    "        Args:\n",
    "            action : action from the action_space to be taking in the environment\n",
    "        Returns:\n",
    "            observation - returns current state\n",
    "            reward - reward obtained after taking the given action\n",
    "            done - True if the episode is complete else False\n",
    "        '''\n",
    "        if action >= self.nA: \n",
    "            action = self.nA - 1\n",
    "        if action < 0: \n",
    "            action = 0\n",
    "\n",
    "        outcomes = self.prob_dynamics[self.state][action]  # list of (p, s', r, done)\n",
    "        probs = [p for p, _, _, _ in outcomes]\n",
    "        idx = np.random.choice(len(outcomes), p=probs)\n",
    "        _, next_state, reward, done = outcomes[idx]\n",
    "\n",
    "        self.state = next_state\n",
    "        return self.state, reward, done"
   ]
  },
  {
   "cell_type": "markdown",
   "id": "38bd818f",
   "metadata": {},
   "source": [
    "### 2.2 Policies and Navigation\n",
    "\n",
    "We reuse the policy matrices defined in Experiment 1 (e.g., `policy_R`, `policy_D`, `policy_uncertain`, `policy_random`). The code block below demonstrates how to run short rollouts in the stochastic environment using the selected policy. This section mirrors Experiment 1's structure so the notebook is consistent and easy to follow."
   ]
  },
  {
   "cell_type": "markdown",
   "id": "4e6a5212",
   "metadata": {
    "id": "4e6a5212"
   },
   "source": [
    "### Navigating in Stochastic Career Path"
   ]
  },
  {
   "cell_type": "code",
   "execution_count": null,
   "id": "d3e69064",
   "metadata": {
    "id": "d3e69064",
    "outputId": "8bba3991-3a27-43c3-dcca-5919f2277c1a"
   },
   "outputs": [
    {
     "name": "stdout",
     "output_type": "stream",
     "text": [
      "[using policy = Uncertain, seed = 42]\n",
      "[[0.5 0.5]\n",
      " [0.5 0.5]\n",
      " [0.5 0.5]\n",
      " [0.5 0.5]]\n",
      "State\t Action\t New State\t Reward\t is_Terminal\n",
      "  3 \t   1 \t   1 \t 100.0 \t   False\n",
      "  1 \t   0 \t   0 \t -10.0 \t   False\n",
      "  0 \t   0 \t   2 \t 0.0 \t   False\n",
      "  2 \t   0 \t   3 \t 10.0 \t   False\n",
      "  3 \t   1 \t   1 \t 100.0 \t   False\n",
      "  1 \t   0 \t   0 \t -10.0 \t   False\n",
      "  0 \t   0 \t   2 \t 0.0 \t   False\n",
      "  2 \t   0 \t   3 \t 10.0 \t   False\n",
      "  3 \t   1 \t   1 \t 100.0 \t   False\n",
      "  1 \t   1 \t   1 \t 100.0 \t   False\n",
      "Total Number of steps: 10\n",
      "Final Reward: 400.0\n"
     ]
    }
   ],
   "source": [
    "# Section 2.2 & Navigating in Stochastic Career Path\n",
    "# This cell demonstrates how to use a selected policy to navigate the stochastic career path environment.\n",
    "# The agent starts in a given state and follows the chosen policy, with transitions determined by the environment's probabilities.\n",
    "# Each step prints the current state, chosen action, resulting state, reward, and whether the episode has ended.\n",
    "# This helps visualize how randomness in transitions affects the agent's journey and accumulated rewards.\n",
    "\n",
    "sto_env = StochasticCareerPathEnv()\n",
    "is_Terminal = False\n",
    "start_state = sto_env.reset()\n",
    "steps = 0\n",
    "total_reward = 0\n",
    "\n",
    "# Select the policy based on configuration (Research, Development, Uncertain, or Random)\n",
    "if config.get(\"policy\") == \"Research\":\n",
    "    policy = policy_R\n",
    "elif config.get(\"policy\") == \"Development\":\n",
    "    policy = policy_D\n",
    "elif config.get(\"policy\") == \"Uncertain\":\n",
    "    policy = policy_uncertain\n",
    "else: # \"Random\"\n",
    "    policy = policy_random\n",
    "print(f\"[using policy = {config.get('policy')}, seed = {seed}]\")\n",
    "print(policy)\n",
    "\n",
    "print(\"State\\t\", \"Action\\t\" , \"New State\\t\" , \"Reward\\t\" , \"is_Terminal\")\n",
    "max_steps = 10\n",
    "prev_state = start_state\n",
    "\n",
    "# Run the episode, taking actions according to the policy and observing stochastic transitions\n",
    "while steps < max_steps and not is_Terminal:\n",
    "    steps += 1\n",
    "    action = np.random.choice(sto_env.nA, p=policy[prev_state])  # Action selection based on policy probabilities\n",
    "    state, reward, is_Terminal = sto_env.step(action)\n",
    "    total_reward += reward\n",
    "    print(\" \", prev_state, \"\\t  \", action, \"\\t  \", state, \"\\t\", reward, \"\\t  \", is_Terminal)\n",
    "    prev_state = state\n",
    "\n",
    "print(\"Total Number of steps:\", steps)\n",
    "print(\"Final Reward:\", total_reward)\n"
   ]
  },
  {
   "cell_type": "markdown",
   "id": "c01a3612",
   "metadata": {
    "id": "c01a3612"
   },
   "source": [
    "### 2.3 Find an optimal policy to navigate the given SCP environment using Policy Iteration (PI)"
   ]
  },
  {
   "cell_type": "code",
   "execution_count": null,
   "id": "eb1faa8a",
   "metadata": {
    "id": "eb1faa8a"
   },
   "outputs": [],
   "source": [
    "# Policy Improvement (works for BOTH deterministic and stochastic)\n",
    "def ImprovePolicy(env, v, gamma):\n",
    "    \"\"\"Compute a greedy deterministic policy from a value function `v`.\n",
    "\n",
    "    This function performs a one-step lookahead to compute q(s,a) = E[r + gamma * v(s')]\n",
    "    for each (s,a) pair and returns a one-hot policy that selects the action\n",
    "    with the highest expected return for each state.\n",
    "\n",
    "    Args:\n",
    "        env: environment exposing `nS`, `nA`, and `P()`\n",
    "        v: numpy array of length nS containing the estimated state values\n",
    "        gamma: discount factor (0 <= gamma < 1 normally)\n",
    "\n",
    "    Returns:\n",
    "        new_pi: (nS x nA) numpy array where each row is a one-hot vector selecting\n",
    "                the greedy action for that state.\n",
    "    \"\"\"\n",
    "    num_states = env.nS\n",
    "    num_actions = env.nA\n",
    "    P = env.P()\n",
    "\n",
    "    q = np.zeros((num_states, num_actions))\n",
    "    for s in range(num_states):\n",
    "        for a in range(num_actions):\n",
    "            for prob, ns, r, done in P[s][a]:\n",
    "                # accumulate expected one-step return for (s,a)\n",
    "                q[s][a] += prob * (r + gamma * v[ns])\n",
    "\n",
    "    new_pi = np.zeros((num_states, num_actions))\n",
    "    for s in range(num_states):\n",
    "        opt_a = np.argmax(q[s])\n",
    "        new_pi[s][opt_a] = 1.0\n",
    "    return new_pi\n",
    "\n",
    "\n",
    "def EvaluatePolicy_stochastic(env, policy, gamma):\n",
    "    \"\"\"Evaluate a (possibly stochastic) policy in an MDP with probabilistic transitions.\n",
    "\n",
    "    Uses iterative policy evaluation (Bellman expectation) until the sup-norm\n",
    "    change is below a small tolerance. The implementation mirrors the deterministic\n",
    "    version but explicitly handles multiple outcomes per action.\n",
    "\n",
    "    Args:\n",
    "        env: environment exposing `nS` and `P()`\n",
    "        policy: (nS x nA) numpy array where each row is a distribution over actions\n",
    "        gamma: discount factor\n",
    "\n",
    "    Returns:\n",
    "        V: numpy array of length `nS` containing estimated state values under `policy`.\n",
    "    \"\"\"\n",
    "    V = np.zeros(env.nS)\n",
    "    theta = 1e-8\n",
    "    P = env.P()\n",
    "    while True:\n",
    "        delta = 0.0\n",
    "        for s in range(env.nS):\n",
    "            Vs = 0.0\n",
    "            # expectation under the (possibly stochastic) policy at state s\n",
    "            for a, action_prob in enumerate(policy[s]):\n",
    "                for prob, ns, r, done in P[s][a]:\n",
    "                    Vs += action_prob * prob * (r + gamma * V[ns])\n",
    "            delta = max(delta, abs(V[s] - Vs))\n",
    "            V[s] = Vs\n",
    "        if delta < theta:\n",
    "            break\n",
    "    return V\n",
    "\n",
    "\n",
    "def policy_iteration_stochastic_with_trace_from(env, pi_init, gamma=0.9, theta=1e-8):\n",
    "    \"\"\"Policy iteration for stochastic MDPs that returns a convergence trace.\n",
    "\n",
    "    This function alternates iterative policy evaluation (under the current\n",
    "    policy distribution) and greedy policy improvement until the greedy actions\n",
    "    stop changing. It returns the final action indices, the converged value\n",
    "    function, and a list of deltas recorded during evaluation sweeps for\n",
    "    diagnostic plotting.\n",
    "\n",
    "    Args:\n",
    "        env: environment with `nS`, `nA`, and `P()`\n",
    "        pi_init: initial policy, either as a matrix (nS x nA) or an index vector\n",
    "        gamma: discount factor\n",
    "        theta: tolerance for evaluation convergence\n",
    "\n",
    "    Returns:\n",
    "        (pi_actions, V, deltas)\n",
    "    \"\"\"\n",
    "    nS, nA = env.nS, env.nA\n",
    "    P = env.P()\n",
    "    V = np.zeros(nS)\n",
    "    # ensure matrix policy; if indices are passed, make one-hot\n",
    "    pi = pi_init.copy()\n",
    "    if pi.ndim == 1:\n",
    "        pi = np.eye(nA)[pi]\n",
    "    deltas = []\n",
    "\n",
    "    while True:\n",
    "        # --- policy evaluation (iterative) with ΔV tracking under the policy distribution ---\n",
    "        while True:\n",
    "            delta = 0.0\n",
    "            for s in range(nS):\n",
    "                v_old = V[s]\n",
    "                Vs = 0.0\n",
    "                for a, action_prob in enumerate(pi[s]):\n",
    "                    for p, ns, r, done in P[s][a]:\n",
    "                        Vs += action_prob * p * (r + gamma * V[ns])\n",
    "                V[s] = Vs\n",
    "                delta = max(delta, abs(v_old - V[s]))\n",
    "            deltas.append(delta)\n",
    "            if delta < theta:\n",
    "                break\n",
    "\n",
    "        # --- policy improvement (greedy w.r.t. V) ---\n",
    "        pi_new = ImprovePolicy(env, V, gamma)\n",
    "\n",
    "        # stop if greedy actions didn't change\n",
    "        if np.array_equal(np.argmax(pi_new, axis=1), np.argmax(pi, axis=1)):\n",
    "            break\n",
    "        pi = pi_new\n",
    "\n",
    "    # return action indices for consistency with other PI code\n",
    "    return np.argmax(pi, axis=1), V, deltas"
   ]
  },
  {
   "cell_type": "markdown",
   "id": "3264b19c",
   "metadata": {
    "id": "3264b19c"
   },
   "source": [
    "### 2.4 Find an optimal policy to navigate the given SCP environment using Value Iteration (VI)"
   ]
  },
  {
   "cell_type": "code",
   "execution_count": 111,
   "id": "77079cf6",
   "metadata": {
    "id": "77079cf6"
   },
   "outputs": [],
   "source": [
    "def value_iteration_stochastic_with_trace(env, gamma=0.9, theta=1e-8):\n",
    "    \"\"\"Value iteration for MDPs with stochastic transitions.\n",
    "\n",
    "    Identical interface to `value_iteration_with_trace` but kept separate to make\n",
    "    experiment code explicit and readable. The function performs Bellman optimal\n",
    "    updates until the maximal change in V falls below `theta` and returns the\n",
    "    greedy policy, value function and per-iteration deltas for plotting.\n",
    "\n",
    "    Args:\n",
    "        env: environment with `nS`, `nA`, and `P()`\n",
    "        gamma: discount factor\n",
    "        theta: stopping tolerance for the Bellman error (sup-norm)\n",
    "\n",
    "    Returns:\n",
    "        (policy, V, deltas)\n",
    "    \"\"\"\n",
    "    n_states, n_actions = env.nS, env.nA\n",
    "    V = np.zeros(n_states)\n",
    "    policy = np.zeros(n_states, dtype=int)\n",
    "    deltas = []\n",
    "    P = env.P()\n",
    "    while True:\n",
    "        delta = 0.0\n",
    "        for s in range(n_states):\n",
    "            v = V[s]\n",
    "            action_values = np.zeros(n_actions)\n",
    "            for a in range(n_actions):\n",
    "                for prob, next_state, reward, done in P[s][a]:\n",
    "                    action_values[a] += prob * (reward + gamma * V[next_state])\n",
    "            best_a = np.argmax(action_values)\n",
    "            V[s] = action_values[best_a]\n",
    "            policy[s] = best_a\n",
    "            delta = max(delta, abs(v - V[s]))\n",
    "        deltas.append(delta)\n",
    "        if delta < theta:\n",
    "            break\n",
    "    return policy, V, deltas"
   ]
  },
  {
   "cell_type": "markdown",
   "id": "dda774d8",
   "metadata": {
    "id": "dda774d8"
   },
   "source": [
    "### 2.5 Compare PI and VI in terms of convergence (average number of iteration, time required for each iteration). Is the policy obtained by both same for SCP environment?\n"
   ]
  },
  {
   "cell_type": "code",
   "execution_count": null,
   "id": "e7b9cdba",
   "metadata": {},
   "outputs": [
    {
     "name": "stdout",
     "output_type": "stream",
     "text": [
      "Optimal Policy (Stochastic MDP): [1 1 1 1]\n",
      "State Values: [1000.   1000.   1000.    990.11]\n",
      "Converged in 220 iterations\n",
      "\n",
      "Sample rollouts with stochastic transitions:\n",
      "\n",
      "Episode 1:\n",
      " Step 0: s=3(Academia), a=1, Next State=1(Industry), r=100.0\n",
      " Step 1: s=1(Industry), a=1, Next State=1(Industry), r=100.0\n",
      " Step 2: s=1(Industry), a=1, Next State=1(Industry), r=100.0\n",
      " Step 3: s=1(Industry), a=1, Next State=1(Industry), r=100.0\n",
      " Step 4: s=1(Industry), a=1, Next State=1(Industry), r=100.0\n",
      " Step 5: s=1(Industry), a=1, Next State=1(Industry), r=100.0\n",
      " Step 6: s=1(Industry), a=1, Next State=1(Industry), r=100.0\n",
      " Step 7: s=1(Industry), a=1, Next State=1(Industry), r=100.0\n",
      " Step 8: s=1(Industry), a=1, Next State=1(Industry), r=100.0\n",
      " Step 9: s=1(Industry), a=1, Next State=1(Industry), r=100.0\n",
      " Total Reward: 1000.0\n",
      "\n",
      "Episode 2:\n",
      " Step 0: s=3(Academia), a=1, Next State=1(Industry), r=100.0\n",
      " Step 1: s=1(Industry), a=1, Next State=1(Industry), r=100.0\n",
      " Step 2: s=1(Industry), a=1, Next State=1(Industry), r=100.0\n",
      " Step 3: s=1(Industry), a=1, Next State=1(Industry), r=100.0\n",
      " Step 4: s=1(Industry), a=1, Next State=1(Industry), r=100.0\n",
      " Step 5: s=1(Industry), a=1, Next State=1(Industry), r=100.0\n",
      " Step 6: s=1(Industry), a=1, Next State=1(Industry), r=100.0\n",
      " Step 7: s=1(Industry), a=1, Next State=1(Industry), r=100.0\n",
      " Step 8: s=1(Industry), a=1, Next State=1(Industry), r=100.0\n",
      " Step 9: s=1(Industry), a=1, Next State=1(Industry), r=100.0\n",
      " Total Reward: 1000.0\n",
      "\n",
      "Episode 3:\n",
      " Step 0: s=3(Academia), a=1, Next State=1(Industry), r=100.0\n",
      " Step 1: s=1(Industry), a=1, Next State=1(Industry), r=100.0\n",
      " Step 2: s=1(Industry), a=1, Next State=1(Industry), r=100.0\n",
      " Step 3: s=1(Industry), a=1, Next State=1(Industry), r=100.0\n",
      " Step 4: s=1(Industry), a=1, Next State=1(Industry), r=100.0\n",
      " Step 5: s=1(Industry), a=1, Next State=1(Industry), r=100.0\n",
      " Step 6: s=1(Industry), a=1, Next State=1(Industry), r=100.0\n",
      " Step 7: s=1(Industry), a=1, Next State=1(Industry), r=100.0\n",
      " Step 8: s=1(Industry), a=1, Next State=1(Industry), r=100.0\n",
      " Step 9: s=1(Industry), a=1, Next State=1(Industry), r=100.0\n",
      " Total Reward: 1000.0\n"
     ]
    },
    {
     "data": {
      "image/png": "[encoded data removed]",
      "text/plain": [
       "<Figure size 640x480 with 1 Axes>"
      ]
     },
     "metadata": {},
     "output_type": "display_data"
    },
    {
     "name": "stdout",
     "output_type": "stream",
     "text": [
      "VI iterations: 220 | PI evaluation sweeps: 357\n"
     ]
    }
   ],
   "source": [
    "# Section 2.5: Comparing Policy Iteration (PI) and Value Iteration (VI) for Stochastic MDPs\n",
    "# This cell runs both VI and PI algorithms on the stochastic career path environment,\n",
    "# prints the optimal policies and state values, and visualizes their convergence behavior.\n",
    "# Reviewer note: This comparison helps illustrate the relative speed and stability of each method.\n",
    "\n",
    "# Run Value Iteration to find the optimal policy and value function\n",
    "gamma = 0.9\n",
    "pi_vi_sto, V_sto, deltas_vi_sto = value_iteration_stochastic_with_trace(sto_env, gamma)\n",
    "print(\"Optimal Policy (Stochastic MDP):\", pi_vi_sto)\n",
    "print(\"State Values:\", np.round(V_sto, 2))\n",
    "print(\"Converged in\", len(deltas_vi_sto), \"iterations\")\n",
    "\n",
    "# Show sample rollouts using the learned VI policy for interpretability\n",
    "state_names = {0:\"Unemployed\", 1:\"Industry\", 2:\"Grad School\", 3:\"Academia\"}\n",
    "print(\"\\nSample rollouts with stochastic transitions:\")\n",
    "for ep in range(3):\n",
    "    state = sto_env.reset()\n",
    "    total_reward = 0\n",
    "    print(f\"\\nEpisode {ep+1}:\")\n",
    "    for t in range(10):\n",
    "        action = pi_vi_sto[state]\n",
    "        next_state, reward, done = sto_env.step(action)\n",
    "        s_name = state_names.get(state, state)\n",
    "        ns_name = state_names.get(next_state, next_state)\n",
    "        total_reward += reward\n",
    "        print(f\" Step {t}: s={state}({s_name}), a={action}, Next State={next_state}({ns_name}), r={reward}\")\n",
    "        state = next_state\n",
    "        if done:\n",
    "            break\n",
    "    print(\" Total Reward:\", total_reward)\n",
    "\n",
    "# Run Policy Iteration starting from the same initial policy for a fair comparison\n",
    "pi_init = policy.copy()  # Use the config-chosen matrix as the starting point\n",
    "pi_pi_sto, V_pi_sto, deltas_pi_sto = policy_iteration_stochastic_with_trace_from(sto_env, pi_init, gamma)\n",
    "\n",
    "# Plot and compare the convergence of VI and PI\n",
    "plot_convergence(deltas_vi_sto, deltas_pi_sto, title=\"Convergence — Stochastic MDP\")"
   ]
  },
  {
   "cell_type": "markdown",
   "id": "a4365338",
   "metadata": {},
   "source": [
    "## Appendix: Sanity Checks (call the functions once)"
   ]
  },
  {
   "cell_type": "code",
   "execution_count": null,
   "id": "7b6b755f",
   "metadata": {},
   "outputs": [
    {
     "name": "stdout",
     "output_type": "stream",
     "text": [
      "Deterministic — V(policy from config): [489.87 482.62 494.87 494.87]\n",
      "Deterministic — V(VI policy) via EvaluatePolicy: [1000. 1000. 1000. 1000.]\n",
      "Stochastic — V(policy from config): [509.   508.21 511.79 507.57]\n",
      "Stochastic — V(VI policy) via EvaluatePolicy_stochastic: [1000.   1000.   1000.    990.11]\n"
     ]
    }
   ],
   "source": [
    "# === Appendix: Sanity-check the evaluation functions (Det + Sto) ===\n",
    "# This appendix cell runs quick sanity checks to verify that policy evaluation and value iteration\n",
    "# functions work as expected for both deterministic and stochastic environments.\n",
    "# It prints the computed state values and checks for consistency between different evaluation methods.\n",
    "\n",
    "import numpy as np\n",
    "\n",
    "# Use the gamma value from earlier if available, otherwise default to 0.9\n",
    "if 'gamma' in globals():\n",
    "    gamma = gamma\n",
    "else:\n",
    "    gamma = 0.9\n",
    "\n",
    "# --- Deterministic MDP checks ---\n",
    "# Evaluate the chosen policy matrix from above in the deterministic environment\n",
    "V_det_eval = EvaluatePolicy(det_env, policy, gamma)\n",
    "print(\"Deterministic — V(policy from config):\", np.round(V_det_eval, 2))\n",
    "\n",
    "# Evaluate the VI-optimal policy using one-hot encoding; should match value iteration results\n",
    "pi_vi_det, V_vi_det, _ = value_iteration_with_trace(det_env, gamma)\n",
    "pi_vi_det_mat = np.eye(det_env.nA)[pi_vi_det]\n",
    "V_det_vi_check = EvaluatePolicy(det_env, pi_vi_det_mat, gamma)\n",
    "print(\"Deterministic — V(VI policy) via EvaluatePolicy:\", np.round(V_det_vi_check, 2))\n",
    "\n",
    "# Reviewer note: The following assertion is optional and checks that both methods agree\n",
    "# assert np.allclose(V_det_vi_check, V_vi_det, atol=1e-6)\n",
    "\n",
    "# --- Stochastic MDP checks ---\n",
    "# Make sure the stochastic environment exists\n",
    "if 'sto_env' in globals():\n",
    "    sto_env = sto_env\n",
    "else:\n",
    "    sto_env = StochasticCareerPathEnv()\n",
    "\n",
    "# Evaluate the chosen policy matrix in the stochastic environment\n",
    "V_sto_eval = EvaluatePolicy_stochastic(sto_env, policy, gamma)\n",
    "print(\"Stochastic — V(policy from config):\", np.round(V_sto_eval, 2))\n",
    "\n",
    "# Evaluate the VI-optimal policy in the stochastic environment using one-hot encoding\n",
    "pi_vi_sto, V_vi_sto, _ = value_iteration_stochastic_with_trace(sto_env, gamma)\n",
    "pi_vi_sto_mat = np.eye(sto_env.nA)[pi_vi_sto]\n",
    "V_sto_vi_check = EvaluatePolicy_stochastic(sto_env, pi_vi_sto_mat, gamma)\n",
    "print(\"Stochastic — V(VI policy) via EvaluatePolicy_stochastic:\", np.round(V_sto_vi_check, 2))\n",
    "\n",
    "\n"
   ]
  },
  {
   "cell_type": "markdown",
   "id": "be52a30c",
   "metadata": {},
   "source": []
  }
 ],
 "metadata": {
  "colab": {
   "provenance": []
  },
  "kernelspec": {
   "display_name": "mlenv",
   "language": "python",
   "name": "python3"
  },
  "language_info": {
   "codemirror_mode": {
    "name": "ipython",
    "version": 3
   },
   "file_extension": ".py",
   "mimetype": "text/x-python",
   "name": "python",
   "nbconvert_exporter": "python",
   "pygments_lexer": "ipython3",
   "version": "3.12.11"
  }
 },
 "nbformat": 4,
 "nbformat_minor": 5
}
